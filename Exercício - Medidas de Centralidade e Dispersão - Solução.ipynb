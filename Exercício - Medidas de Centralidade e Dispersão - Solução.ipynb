{
 "cells": [
  {
   "cell_type": "markdown",
   "metadata": {
    "id": "9LVGToIPfZz6"
   },
   "source": [
    "# Introdução à Ciência de Dados - UFPB\n",
    "Professor: Yuri Malheiros\n",
    "\n",
    "## Correlação"
   ]
  },
  {
   "cell_type": "markdown",
   "metadata": {
    "id": "J4yk9BEFfZz6"
   },
   "source": [
    "Colete os seguintes dados dos times do campeonato brasileiro de 2019:\n",
    "\n",
    "- Pontos\n",
    "- Gols marcados\n",
    "- Gol sofridos\n",
    "\n",
    "Você pode encontrar esses dados no site da CBF (www.cbf.com.br)\n",
    "\n",
    "Calcule a correlação entre:\n",
    "\n",
    "- Pontos e gols marcados\n",
    "- Pontos e gols sofridos"
   ]
  },
  {
   "cell_type": "markdown",
   "metadata": {
    "id": "5k_C7eT_fZz7"
   },
   "source": [
    "### Correlação entre Pontos e gols marcados"
   ]
  },
  {
   "cell_type": "code",
   "execution_count": 14,
   "metadata": {
    "id": "zfC_DAHzfpnW"
   },
   "outputs": [],
   "source": [
    "import pandas as pd\n",
    "\n",
    "times_A = 'Flamengo Santos Palmeiras Grêmio Athletico-Paranaense São-Paulo Internacional Corinthians Fortaleza Goiás Bahia Vasco-da-Gama Atlético Fluminense Botafogo Ceará Cruzeiro Csa Chapecoense Avaí'\n",
    "Times_A = times_A.split(' ')\n",
    "\n",
    "\n",
    "pontos = [90,74,74,65,64,63,57,56,53,52,49,49,48,46,43,39,36,32,32,20]\n",
    "gols_marcados = [86,60,61,64,51,39,44,42,50,46,44,39,44,38,31,36,27,24,31,18]\n",
    "gols_sofridos = [37,33,32,39,32,30,38,34,49,64,43,45,49,46,45,41,46,58,52,62]\n",
    "\n",
    "df = pd.DataFrame(data={'Pontos':pontos, 'Gols Marcados':gols_marcados, 'Gols Sofridos':gols_sofridos}, index=Times_A)\n"
   ]
  },
  {
   "cell_type": "code",
   "execution_count": 15,
   "metadata": {
    "colab": {
     "base_uri": "https://localhost:8080/",
     "height": 111
    },
    "id": "2T-l18IMfZz7",
    "outputId": "12b274f9-f275-4b2b-c08f-c19ae9875ae5"
   },
   "outputs": [
    {
     "data": {
      "text/html": [
       "<div>\n",
       "<style scoped>\n",
       "    .dataframe tbody tr th:only-of-type {\n",
       "        vertical-align: middle;\n",
       "    }\n",
       "\n",
       "    .dataframe tbody tr th {\n",
       "        vertical-align: top;\n",
       "    }\n",
       "\n",
       "    .dataframe thead th {\n",
       "        text-align: right;\n",
       "    }\n",
       "</style>\n",
       "<table border=\"1\" class=\"dataframe\">\n",
       "  <thead>\n",
       "    <tr style=\"text-align: right;\">\n",
       "      <th></th>\n",
       "      <th>Pontos</th>\n",
       "      <th>Gols Marcados</th>\n",
       "    </tr>\n",
       "  </thead>\n",
       "  <tbody>\n",
       "    <tr>\n",
       "      <th>Pontos</th>\n",
       "      <td>1.000000</td>\n",
       "      <td>0.936469</td>\n",
       "    </tr>\n",
       "    <tr>\n",
       "      <th>Gols Marcados</th>\n",
       "      <td>0.936469</td>\n",
       "      <td>1.000000</td>\n",
       "    </tr>\n",
       "  </tbody>\n",
       "</table>\n",
       "</div>"
      ],
      "text/plain": [
       "                 Pontos  Gols Marcados\n",
       "Pontos         1.000000       0.936469\n",
       "Gols Marcados  0.936469       1.000000"
      ]
     },
     "execution_count": 15,
     "metadata": {},
     "output_type": "execute_result"
    }
   ],
   "source": [
    "# ADICIONE O SEU CÓDIGO AQUI\n",
    "df[[\"Pontos\",\"Gols Marcados\"]].corr()"
   ]
  },
  {
   "cell_type": "markdown",
   "metadata": {
    "id": "hsxpoKD2fZz_"
   },
   "source": [
    "### Correlação entre Pontos e gols sofridos"
   ]
  },
  {
   "cell_type": "code",
   "execution_count": 16,
   "metadata": {
    "colab": {
     "base_uri": "https://localhost:8080/",
     "height": 111
    },
    "id": "Fkze1FxRfZz_",
    "outputId": "d4a7561c-9941-4880-bb07-da55647ea432"
   },
   "outputs": [
    {
     "data": {
      "text/html": [
       "<div>\n",
       "<style scoped>\n",
       "    .dataframe tbody tr th:only-of-type {\n",
       "        vertical-align: middle;\n",
       "    }\n",
       "\n",
       "    .dataframe tbody tr th {\n",
       "        vertical-align: top;\n",
       "    }\n",
       "\n",
       "    .dataframe thead th {\n",
       "        text-align: right;\n",
       "    }\n",
       "</style>\n",
       "<table border=\"1\" class=\"dataframe\">\n",
       "  <thead>\n",
       "    <tr style=\"text-align: right;\">\n",
       "      <th></th>\n",
       "      <th>Pontos</th>\n",
       "      <th>Gols Sofridos</th>\n",
       "    </tr>\n",
       "  </thead>\n",
       "  <tbody>\n",
       "    <tr>\n",
       "      <th>Pontos</th>\n",
       "      <td>1.000000</td>\n",
       "      <td>-0.715796</td>\n",
       "    </tr>\n",
       "    <tr>\n",
       "      <th>Gols Sofridos</th>\n",
       "      <td>-0.715796</td>\n",
       "      <td>1.000000</td>\n",
       "    </tr>\n",
       "  </tbody>\n",
       "</table>\n",
       "</div>"
      ],
      "text/plain": [
       "                 Pontos  Gols Sofridos\n",
       "Pontos         1.000000      -0.715796\n",
       "Gols Sofridos -0.715796       1.000000"
      ]
     },
     "execution_count": 16,
     "metadata": {},
     "output_type": "execute_result"
    }
   ],
   "source": [
    "# ADICIONE O SEU CÓDIGO AQUI\n",
    "df[[\"Pontos\",\"Gols Sofridos\"]].corr()"
   ]
  },
  {
   "cell_type": "markdown",
   "metadata": {
    "id": "kI82cmQ5fZ0B"
   },
   "source": [
    "### Análise dos Resultados\n",
    "\n",
    "* Qual o nível (fraco, moderado, forte) das correlações entre as variáveis analisadas?\n"
   ]
  },
  {
   "cell_type": "markdown",
   "metadata": {
    "id": "ehFl6KiYfZ0C"
   },
   "source": [
    "** Analisando a matriz de correlação podemos observar que o nível das correlações entre pontos e gols marcados é muito forte. **\n",
    "\n",
    "** Novamente, analisando a matriz de correlação podemos observar que o nível das correlações entre pontos e gols sofritos é forte. **\n",
    "\n",
    "\n"
   ]
  },
  {
   "cell_type": "markdown",
   "metadata": {
    "id": "oJj5cFS_fZ0C"
   },
   "source": [
    "* De acordo com os dados analisados, é melhor um time focar em marcar mais gols ou sofrer menos gols?\n"
   ]
  },
  {
   "cell_type": "markdown",
   "metadata": {
    "id": "asnoAJ6gfZ0D"
   },
   "source": [
    "\n",
    "** É melhor marcar mais gols pois, quanto mais próximo de 1 melhor. **\n"
   ]
  },
  {
   "cell_type": "code",
   "execution_count": null,
   "metadata": {},
   "outputs": [],
   "source": []
  }
 ],
 "metadata": {
  "colab": {
   "name": "Exercício - Correlação.ipynb",
   "provenance": [],
   "toc_visible": true
  },
  "kernelspec": {
   "display_name": "Python 3",
   "language": "python",
   "name": "python3"
  },
  "language_info": {
   "codemirror_mode": {
    "name": "ipython",
    "version": 3
   },
   "file_extension": ".py",
   "mimetype": "text/x-python",
   "name": "python",
   "nbconvert_exporter": "python",
   "pygments_lexer": "ipython3",
   "version": "3.6.9"
  }
 },
 "nbformat": 4,
 "nbformat_minor": 1
}
